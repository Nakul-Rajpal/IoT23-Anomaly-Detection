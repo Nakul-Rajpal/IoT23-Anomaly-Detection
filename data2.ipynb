{
 "cells": [
  {
   "cell_type": "code",
   "execution_count": 5,
   "id": "e473dc98",
   "metadata": {},
   "outputs": [],
   "source": [
    "import pandas as pd\n",
    "import glob\n",
    "import os\n",
    "import numpy as np\n",
    "from collections import defaultdict\n",
    "from sklearn.model_selection import train_test_split\n",
    "from sklearn.preprocessing import LabelEncoder, MinMaxScaler\n",
    "from sklearn.utils import shuffle"
   ]
  },
  {
   "cell_type": "code",
   "execution_count": 9,
   "id": "f8a4c592",
   "metadata": {},
   "outputs": [
    {
     "name": "stdout",
     "output_type": "stream",
     "text": [
      "Benign shape: (15334261, 18)\n",
      "Malicious shape: (11045641, 18)\n"
     ]
    }
   ],
   "source": [
    "data_dir = 'data'\n",
    "\n",
    "benign_df = pd.read_csv(f'{data_dir}/benign_train.csv')\n",
    "\n",
    "csv_files = [f for f in os.listdir(data_dir) if f.endswith('.csv') and f not in [\n",
    "    'benign_train.csv', 'train_X.csv', 'X_test.csv', 'y_test.csv', 'val_X.csv']]\n",
    "\n",
    "csv_dfs = []\n",
    "for f in csv_files:\n",
    "    df = pd.read_csv(os.path.join(data_dir, f))\n",
    "    if 'label' in df.columns:\n",
    "        df['label'] = df['label'].fillna(1)\n",
    "        df = df[df['label'] == 1]  \n",
    "    csv_dfs.append(df)\n",
    "\n",
    "malicious_df = pd.concat(csv_dfs, ignore_index=True)\n",
    "print(\"Benign shape:\", benign_df.shape)\n",
    "print(\"Malicious shape:\", malicious_df.shape)"
   ]
  },
  {
   "cell_type": "code",
   "execution_count": null,
   "id": "30569a53",
   "metadata": {},
   "outputs": [],
   "source": [
    "train_val_benign, test_benign = train_test_split(benign_df, test_size=0.2, random_state=42)\n",
    "train_benign, val_benign = train_test_split(train_val_benign, test_size=0.2, random_state=42)\n",
    "\n",
    "test_malicious = malicious_df.sample(n=len(test_benign), random_state=42)\n",
    "\n",
    "X_test = pd.concat([test_benign, test_malicious], ignore_index=True)\n",
    "y_test = [0] * len(test_benign) + [1] * len(test_malicious)\n",
    "X_test, y_test = shuffle(X_test, y_test, random_state=42)"
   ]
  },
  {
   "cell_type": "code",
   "execution_count": null,
   "id": "8abe670a",
   "metadata": {},
   "outputs": [
    {
     "name": "stdout",
     "output_type": "stream",
     "text": [
      "Train X shape: (9813926, 18) | min: 0.0 | max: 1.0\n",
      "Test X shape: (6133706, 18)\n",
      "Val X shape: (2453482, 18)\n",
      "Test label distribution:\n",
      "0    3066853\n",
      "1    3066853\n",
      "Name: count, dtype: int64\n"
     ]
    }
   ],
   "source": [
    "train_X_df = train_benign.copy()\n",
    "X_test_df = pd.DataFrame(X_test)\n",
    "val_benign_df = val_benign.copy()\n",
    "\n",
    "train_columns = train_X_df.columns\n",
    "train_X_df = train_X_df[train_columns]\n",
    "X_test_df = X_test_df[train_columns]\n",
    "val_benign_df = val_benign_df[train_columns]\n",
    "\n",
    "median_values = train_X_df.median()\n",
    "train_X_df = train_X_df.fillna(median_values)\n",
    "X_test_df = X_test_df.fillna(median_values)\n",
    "val_benign_df = val_benign_df.fillna(median_values)\n",
    "\n",
    "scaler = MinMaxScaler()\n",
    "train_X_scaled = scaler.fit_transform(train_X_df)\n",
    "X_test_scaled = scaler.transform(X_test_df)\n",
    "val_X_scaled = scaler.transform(val_benign_df)\n",
    "\n",
    "assert np.all(train_X_scaled >= 0) and np.all(train_X_scaled <= 1), \"Train_X not scaled properly\"\n",
    "assert not np.isnan(train_X_scaled).any(), \"NaNs found in scaled train_X\"\n",
    "\n",
    "pd.DataFrame(train_X_scaled).to_csv(f\"{data_dir}/train_X.csv\", index=False)\n",
    "pd.DataFrame(X_test_scaled).to_csv(f\"{data_dir}/X_test.csv\", index=False)\n",
    "pd.Series(y_test).to_csv(f\"{data_dir}/y_test.csv\", index=False)\n",
    "pd.DataFrame(val_X_scaled).to_csv(f\"{data_dir}/val_X.csv\", index=False)\n",
    "\n",
    "print(\"Train X shape:\", train_X_scaled.shape, \"| min:\", train_X_scaled.min(), \"| max:\", train_X_scaled.max())\n",
    "print(\"Test X shape:\", X_test_scaled.shape)\n",
    "print(\"Val X shape:\", val_X_scaled.shape)\n",
    "print(\"Test label distribution:\")\n",
    "print(pd.Series(y_test).value_counts())"
   ]
  }
 ],
 "metadata": {
  "kernelspec": {
   "display_name": "venv",
   "language": "python",
   "name": "python3"
  },
  "language_info": {
   "codemirror_mode": {
    "name": "ipython",
    "version": 3
   },
   "file_extension": ".py",
   "mimetype": "text/x-python",
   "name": "python",
   "nbconvert_exporter": "python",
   "pygments_lexer": "ipython3",
   "version": "3.13.5"
  }
 },
 "nbformat": 4,
 "nbformat_minor": 5
}
