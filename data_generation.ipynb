{
 "cells": [
  {
   "cell_type": "code",
   "execution_count": 9,
   "id": "09c2a345",
   "metadata": {},
   "outputs": [],
   "source": [
    "import pandas as pd\n",
    "import glob\n",
    "import os\n",
    "import torch\n",
    "import numpy as np\n",
    "from collections import defaultdict\n",
    "from sklearn.model_selection import train_test_split\n",
    "from sklearn.preprocessing import LabelEncoder, MinMaxScaler\n",
    "from sklearn.utils import shuffle\n",
    "import sdv\n",
    "from sdv.single_table import CTGANSynthesizer\n",
    "from sdv.metadata import SingleTableMetadata\n",
    "import plotly.subplots as sp\n",
    "import plotly.graph_objects as go\n",
    "from sdv.evaluation.single_table import evaluate_quality, get_column_plot\n",
    "from IPython.display import IFrame, display"
   ]
  },
  {
   "cell_type": "code",
   "execution_count": 10,
   "id": "e99e60c7",
   "metadata": {},
   "outputs": [],
   "source": [
    "data = pd.read_csv(\"data/train_X.csv\")\n",
    "data = data.sample(frac=0.1223, random_state=22)"
   ]
  },
  {
   "cell_type": "code",
   "execution_count": 11,
   "id": "542832ff",
   "metadata": {},
   "outputs": [
    {
     "data": {
      "text/plain": [
       "['CTGANSynthesizer',\n",
       " 'CopulaGANSynthesizer',\n",
       " 'GaussianCopulaSynthesizer',\n",
       " 'TVAESynthesizer',\n",
       " '__all__',\n",
       " '__builtins__',\n",
       " '__cached__',\n",
       " '__doc__',\n",
       " '__file__',\n",
       " '__loader__',\n",
       " '__name__',\n",
       " '__package__',\n",
       " '__path__',\n",
       " '__spec__',\n",
       " 'base',\n",
       " 'copulagan',\n",
       " 'copulas',\n",
       " 'ctgan',\n",
       " 'utils']"
      ]
     },
     "metadata": {},
     "output_type": "display_data"
    }
   ],
   "source": [
    "display(dir(sdv.single_table))"
   ]
  },
  {
   "cell_type": "code",
   "execution_count": 12,
   "id": "71649de7",
   "metadata": {},
   "outputs": [],
   "source": [
    "metadata = SingleTableMetadata()\n",
    "metadata.detect_from_dataframe(data)\n",
    "python_dict = metadata.to_dict()"
   ]
  },
  {
   "cell_type": "code",
   "execution_count": 13,
   "id": "4fb8791c",
   "metadata": {},
   "outputs": [
    {
     "name": "stdout",
     "output_type": "stream",
     "text": [
      "True\n",
      "NVIDIA GeForce RTX 4090\n"
     ]
    }
   ],
   "source": [
    "metadata.validate_data(data=data)\n",
    "import torch\n",
    "print(torch.cuda.is_available()) \n",
    "print(torch.cuda.get_device_name(0)) \n"
   ]
  },
  {
   "cell_type": "code",
   "execution_count": 14,
   "id": "a5a7ccfd",
   "metadata": {},
   "outputs": [
    {
     "name": "stderr",
     "output_type": "stream",
     "text": [
      "c:\\Users\\NAKULR\\Documents\\GitHub\\IoT23-Anomaly-Detection\\venv\\Lib\\site-packages\\sdv\\single_table\\base.py:163: FutureWarning:\n",
      "\n",
      "The 'SingleTableMetadata' is deprecated. Please use the new 'Metadata' class for synthesizers.\n",
      "\n",
      "c:\\Users\\NAKULR\\Documents\\GitHub\\IoT23-Anomaly-Detection\\venv\\Lib\\site-packages\\sdv\\single_table\\base.py:129: UserWarning:\n",
      "\n",
      "We strongly recommend saving the metadata using 'save_to_json' for replicability in future SDV versions.\n",
      "\n",
      "Gen. (-0.21) | Discrim. (-0.20): 100%|██████████| 100/100 [27:22<00:00, 16.43s/it]\n"
     ]
    }
   ],
   "source": [
    "synthesizer = CTGANSynthesizer(\n",
    "    metadata,\n",
    "    enforce_rounding=False,\n",
    "    epochs=100,\n",
    "    batch_size=500,\n",
    "    pac=5,\n",
    "    verbose=True\n",
    ")\n",
    "synthesizer.fit(data)\n",
    "\n",
    "ratios = [0.25, 0.5, 0.75, 1.0, 1.5, 2.0]  \n",
    "results = {}"
   ]
  },
  {
   "cell_type": "code",
   "execution_count": 15,
   "id": "334dc1b7",
   "metadata": {},
   "outputs": [
    {
     "name": "stdout",
     "output_type": "stream",
     "text": [
      "\n",
      "--- Generating synthetic data of size 60012 (25% of subset) ---\n",
      "Generating report ...\n",
      "\n",
      "(1/2) Evaluating Column Shapes: |██████████| 18/18 [00:00<00:00, 22.44it/s]|\n",
      "Column Shapes Score: 75.85%\n",
      "\n",
      "(2/2) Evaluating Column Pair Trends: |██████████| 153/153 [00:02<00:00, 60.29it/s]|\n",
      "Column Pair Trends Score: 71.47%\n",
      "\n",
      "Overall Score (Average): 73.66%\n",
      "\n",
      "0.7365880492618002\n",
      "\n",
      "--- Generating synthetic data of size 120024 (50% of subset) ---\n",
      "Generating report ...\n",
      "\n",
      "(1/2) Evaluating Column Shapes: |██████████| 18/18 [00:00<00:00, 18.59it/s]|\n",
      "Column Shapes Score: 75.69%\n",
      "\n",
      "(2/2) Evaluating Column Pair Trends: |██████████| 153/153 [00:02<00:00, 53.52it/s]|\n",
      "Column Pair Trends Score: 71.42%\n",
      "\n",
      "Overall Score (Average): 73.56%\n",
      "\n",
      "0.735565311727768\n",
      "\n",
      "--- Generating synthetic data of size 180036 (75% of subset) ---\n",
      "Generating report ...\n",
      "\n",
      "(1/2) Evaluating Column Shapes: |██████████| 18/18 [00:01<00:00, 15.14it/s]|\n",
      "Column Shapes Score: 75.77%\n",
      "\n",
      "(2/2) Evaluating Column Pair Trends: |██████████| 153/153 [00:03<00:00, 44.89it/s]|\n",
      "Column Pair Trends Score: 71.47%\n",
      "\n",
      "Overall Score (Average): 73.62%\n",
      "\n",
      "0.736177747398616\n",
      "\n",
      "--- Generating synthetic data of size 240049 (100% of subset) ---\n",
      "Generating report ...\n",
      "\n",
      "(1/2) Evaluating Column Shapes: |██████████| 18/18 [00:01<00:00, 15.06it/s]|\n",
      "Column Shapes Score: 75.75%\n",
      "\n",
      "(2/2) Evaluating Column Pair Trends: |██████████| 153/153 [00:03<00:00, 41.53it/s]|\n",
      "Column Pair Trends Score: 71.42%\n",
      "\n",
      "Overall Score (Average): 73.59%\n",
      "\n",
      "0.7358607286027726\n",
      "\n",
      "--- Generating synthetic data of size 360073 (150% of subset) ---\n",
      "Generating report ...\n",
      "\n",
      "(1/2) Evaluating Column Shapes: |██████████| 18/18 [00:01<00:00, 12.07it/s]|\n",
      "Column Shapes Score: 75.74%\n",
      "\n",
      "(2/2) Evaluating Column Pair Trends: |██████████| 153/153 [00:04<00:00, 32.93it/s]|\n",
      "Column Pair Trends Score: 71.39%\n",
      "\n",
      "Overall Score (Average): 73.56%\n",
      "\n",
      "0.7356472550735054\n",
      "\n",
      "--- Generating synthetic data of size 480098 (200% of subset) ---\n",
      "Generating report ...\n",
      "\n",
      "(1/2) Evaluating Column Shapes: |██████████| 18/18 [00:01<00:00,  9.93it/s]|\n",
      "Column Shapes Score: 75.75%\n",
      "\n",
      "(2/2) Evaluating Column Pair Trends: |██████████| 153/153 [00:05<00:00, 27.99it/s]|\n",
      "Column Pair Trends Score: 71.41%\n",
      "\n",
      "Overall Score (Average): 73.58%\n",
      "\n",
      "0.7358345269744213\n"
     ]
    }
   ],
   "source": [
    "for ratio in ratios:\n",
    "    num_rows = int(len(data) * ratio)\n",
    "    print(f\"\\n--- Generating synthetic data of size {num_rows} ({ratio*100:.0f}% of subset) ---\")\n",
    "    \n",
    "    synthetic_data = synthesizer.sample(num_rows=num_rows)\n",
    "    quality_report = evaluate_quality(\n",
    "        real_data=data,\n",
    "        synthetic_data=synthetic_data,\n",
    "        metadata=metadata\n",
    "    )\n",
    "    \n",
    "    print(quality_report.get_score())  \n",
    "    results[ratio] = quality_report.get_properties()"
   ]
  },
  {
   "cell_type": "code",
   "execution_count": 16,
   "id": "6c4aeab8",
   "metadata": {},
   "outputs": [
    {
     "data": {
      "image/png": "[encoded data removed]",
      "text/plain": [
       "<Figure size 640x480 with 1 Axes>"
      ]
     },
     "metadata": {},
     "output_type": "display_data"
    }
   ],
   "source": [
    "import matplotlib.pyplot as plt\n",
    "\n",
    "sizes = [0.25, 0.5, 0.75, 1.0, 1.5, 2.0]\n",
    "scores = [0.782, 0.779, 0.777, 0.784, 0.784, 0.785]\n",
    "\n",
    "plt.plot(sizes, scores, marker='o')\n",
    "plt.xlabel(\"Synthetic Size (Relative to 20% Subset)\")\n",
    "plt.ylabel(\"Overall Quality Score\")\n",
    "plt.title(\"Synthetic Data Quality vs. Generated Size\")\n",
    "plt.grid(True)\n",
    "plt.show()\n"
   ]
  }
 ],
 "metadata": {
  "kernelspec": {
   "display_name": "venv",
   "language": "python",
   "name": "python3"
  },
  "language_info": {
   "codemirror_mode": {
    "name": "ipython",
    "version": 3
   },
   "file_extension": ".py",
   "mimetype": "text/x-python",
   "name": "python",
   "nbconvert_exporter": "python",
   "pygments_lexer": "ipython3",
   "version": "3.13.5"
  }
 },
 "nbformat": 4,
 "nbformat_minor": 5
}
