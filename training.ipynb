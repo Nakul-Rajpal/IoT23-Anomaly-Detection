{
 "cells": [
  {
   "cell_type": "code",
   "execution_count": 1,
   "metadata": {},
   "outputs": [],
   "source": [
    "import torch\n",
    "import torch.nn as nn\n",
    "import torch.optim as optim\n",
    "import numpy as np\n",
    "import pandas as pd\n",
    "from constants import MODEL1, MODEL2, MODEL3\n",
    "from model import Autoencoder\n",
    "import matplotlib.pyplot as plt\n",
    "from torch.utils.data import DataLoader, TensorDataset\n",
    "from sklearn.metrics import precision_score, recall_score, f1_score, confusion_matrix, roc_curve, auc\n",
    "import time"
   ]
  },
  {
   "cell_type": "code",
   "execution_count": 2,
   "metadata": {},
   "outputs": [
    {
     "name": "stdout",
     "output_type": "stream",
     "text": [
      "18\n",
      "18\n"
     ]
    }
   ],
   "source": [
    "train_X = pd.read_csv(\"data/train_X.csv\")\n",
    "X_test_scaled = pd.read_csv(\"data/X_test.csv\")\n",
    "y_test = pd.read_csv(\"data/y_test.csv\")\n",
    "\n",
    "print(train_X.shape[1])  \n",
    "print(X_test_scaled.shape[1]) \n",
    "\n",
    "train_tensor = torch.tensor(train_X.values, dtype=torch.float32)\n",
    "train_dataset = TensorDataset(train_tensor)\n",
    "train_loader = DataLoader(train_dataset, batch_size=1024, shuffle=True)\n",
    "\n"
   ]
  },
  {
   "cell_type": "code",
   "execution_count": 3,
   "metadata": {},
   "outputs": [],
   "source": [
    "device = torch.device(\"cuda\" if torch.cuda.is_available() else \"cpu\")\n",
    "MODEL1 = Autoencoder(input_dim=18, hidden_dims=[16, 8])\n",
    "model = MODEL1.to(device)  # Change MODEL1 to MODEL2 or MODEL3 as needed\n",
    "optimizer = torch.optim.Adam(model.parameters(), lr=1e-3)\n",
    "criterion = nn.BCELoss()\n",
    "\n",
    "num_epochs = 20"
   ]
  },
  {
   "cell_type": "code",
   "execution_count": 15,
   "metadata": {},
   "outputs": [
    {
     "name": "stdout",
     "output_type": "stream",
     "text": [
      "\n",
      "Batch 0\n",
      "Dtype: torch.float32\n",
      "NaNs: False\n",
      "Infs: False\n",
      "Min/Max: 0.0 1.0\n"
     ]
    }
   ],
   "source": [
    "for i, batch in enumerate(train_loader):\n",
    "    x = batch[0]\n",
    "\n",
    "    print(f\"\\nBatch {i}\")\n",
    "    print(\"Dtype:\", x.dtype)\n",
    "    print(\"NaNs:\", torch.isnan(x).any().item())\n",
    "    print(\"Infs:\", torch.isinf(x).any().item())\n",
    "    print(\"Min/Max:\", x.min().item(), x.max().item())\n",
    "    \n",
    "    break  # just one batch for now\n"
   ]
  },
  {
   "cell_type": "code",
   "execution_count": 4,
   "metadata": {},
   "outputs": [
    {
     "name": "stdout",
     "output_type": "stream",
     "text": [
      "Epoch 1/20, Loss: 0.164532, Time: 38.28s\n",
      "Epoch 2/20, Loss: 0.149115, Time: 36.80s\n",
      "Epoch 3/20, Loss: 0.148763, Time: 36.48s\n",
      "Epoch 4/20, Loss: 0.148508, Time: 36.87s\n",
      "Epoch 5/20, Loss: 0.148346, Time: 37.26s\n",
      "Epoch 6/20, Loss: 0.148254, Time: 36.46s\n",
      "Epoch 7/20, Loss: 0.148204, Time: 36.79s\n",
      "Epoch 8/20, Loss: 0.148165, Time: 36.45s\n",
      "Epoch 9/20, Loss: 0.148131, Time: 36.46s\n",
      "Epoch 10/20, Loss: 0.148103, Time: 36.31s\n",
      "Epoch 11/20, Loss: 0.148063, Time: 36.31s\n",
      "Epoch 12/20, Loss: 0.148000, Time: 36.86s\n",
      "Epoch 13/20, Loss: 0.147942, Time: 37.16s\n",
      "Epoch 14/20, Loss: 0.147772, Time: 36.98s\n",
      "Epoch 15/20, Loss: 0.147713, Time: 36.50s\n",
      "Epoch 16/20, Loss: 0.147690, Time: 36.49s\n",
      "Epoch 17/20, Loss: 0.147675, Time: 36.42s\n",
      "Epoch 18/20, Loss: 0.147663, Time: 37.72s\n",
      "Epoch 19/20, Loss: 0.147653, Time: 37.30s\n",
      "Epoch 20/20, Loss: 0.147634, Time: 36.41s\n"
     ]
    }
   ],
   "source": [
    "losses = []\n",
    "model.train()\n",
    "for epoch in range(num_epochs):\n",
    "    start_time = time.time()\n",
    "    epoch_loss = 0.0\n",
    "    for batch in train_loader:\n",
    "        x = batch[0].to(device)\n",
    "        optimizer.zero_grad()\n",
    "        outputs = model(x)\n",
    "        loss = criterion(outputs, x)\n",
    "        loss.backward()\n",
    "        optimizer.step()\n",
    "        epoch_loss += loss.item() * x.size(0)\n",
    "\n",
    "    avg_loss = epoch_loss / len(train_loader.dataset)\n",
    "    losses.append(avg_loss)\n",
    "    elapsed = time.time() - start_time\n",
    "    print(f\"Epoch {epoch+1}/{num_epochs}, Loss: {avg_loss:.6f}, Time: {elapsed:.2f}s\")"
   ]
  },
  {
   "cell_type": "code",
   "execution_count": null,
   "metadata": {},
   "outputs": [
    {
     "ename": "ValueError",
     "evalue": "could not determine the shape of object type 'DataFrame'",
     "output_type": "error",
     "traceback": [
      "\u001b[31m---------------------------------------------------------------------------\u001b[39m",
      "\u001b[31mValueError\u001b[39m                                Traceback (most recent call last)",
      "\u001b[36mCell\u001b[39m\u001b[36m \u001b[39m\u001b[32mIn[5]\u001b[39m\u001b[32m, line 1\u001b[39m\n\u001b[32m----> \u001b[39m\u001b[32m1\u001b[39m X_test_tensor = \u001b[43mtorch\u001b[49m\u001b[43m.\u001b[49m\u001b[43mtensor\u001b[49m\u001b[43m(\u001b[49m\u001b[43mX_test_scaled\u001b[49m\u001b[43m,\u001b[49m\u001b[43m \u001b[49m\u001b[43mdtype\u001b[49m\u001b[43m=\u001b[49m\u001b[43mtorch\u001b[49m\u001b[43m.\u001b[49m\u001b[43mfloat32\u001b[49m\u001b[43m)\u001b[49m.to(device)\n\u001b[32m      2\u001b[39m model.eval()\n\u001b[32m      3\u001b[39m \u001b[38;5;28;01mwith\u001b[39;00m torch.no_grad():\n",
      "\u001b[31mValueError\u001b[39m: could not determine the shape of object type 'DataFrame'"
     ]
    }
   ],
   "source": [
    "X_test_tensor = torch.tensor(X_test_scaled.values, dtype=torch.float32).to(device)\n",
    "model.eval()\n",
    "with torch.no_grad():\n",
    "    reconstructions = model(X_test_tensor).cpu().numpy()\n",
    "\n",
    "reconstruction_errors = np.mean((X_test_scaled - reconstructions) ** 2, axis=1)\n",
    "X_test_scaled = np.nan_to_num(X_test_scaled)\n",
    "reconstructions = np.nan_to_num(reconstructions)\n",
    "\n",
    "reconstruction_errors = np.mean((X_test_scaled - reconstructions) ** 2, axis=1)\n",
    "\n",
    "threshold = np.percentile(reconstruction_errors, 95)\n",
    "\n",
    "y_pred = (reconstruction_errors > threshold).astype(int)\n",
    "\n",
    "precision = precision_score(y_test, y_pred)\n",
    "recall = recall_score(y_test, y_pred)\n",
    "f1 = f1_score(y_test, y_pred)\n",
    "conf_matrix = confusion_matrix(y_test, y_pred)"
   ]
  },
  {
   "cell_type": "code",
   "execution_count": null,
   "metadata": {},
   "outputs": [],
   "source": [
    "print(f\"\\nThreshold: {threshold:.6f}\")\n",
    "print(f\"Precision: {precision:.4f}\")\n",
    "print(f\"Recall:    {recall:.4f}\")\n",
    "print(f\"F1 Score:  {f1:.4f}\")\n",
    "print(\"Confusion Matrix:\")\n",
    "print(conf_matrix)\n",
    "\n",
    "fpr, tpr, _ = roc_curve(y_test, reconstruction_errors)\n",
    "roc_auc = auc(fpr, tpr)\n",
    "\n",
    "plt.figure(figsize=(6, 5))\n",
    "plt.plot(fpr, tpr, label=f\"AUC = {roc_auc:.4f}\")\n",
    "plt.plot([0, 1], [0, 1], linestyle='--', color='gray')\n",
    "plt.xlabel(\"False Positive Rate\")\n",
    "plt.ylabel(\"True Positive Rate\")\n",
    "plt.title(\"Anomaly Detection\")\n",
    "plt.legend()\n",
    "plt.grid(True)\n",
    "plt.tight_layout()\n",
    "plt.show()\n",
    "\n"
   ]
  }
 ],
 "metadata": {
  "kernelspec": {
   "display_name": "venv",
   "language": "python",
   "name": "python3"
  },
  "language_info": {
   "codemirror_mode": {
    "name": "ipython",
    "version": 3
   },
   "file_extension": ".py",
   "mimetype": "text/x-python",
   "name": "python",
   "nbconvert_exporter": "python",
   "pygments_lexer": "ipython3",
   "version": "3.13.5"
  }
 },
 "nbformat": 4,
 "nbformat_minor": 2
}
