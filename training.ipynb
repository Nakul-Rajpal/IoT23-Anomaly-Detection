{
 "cells": [
  {
   "cell_type": "code",
   "execution_count": 14,
   "metadata": {},
   "outputs": [],
   "source": [
    "import torch\n",
    "import torch.nn as nn\n",
    "import torch.optim as optim\n",
    "import numpy as np\n",
    "import pandas as pd\n",
    "from model import Autoencoder\n",
    "from scipy import stats\n",
    "import matplotlib.pyplot as plt\n",
    "from torch.utils.data import DataLoader, TensorDataset\n",
    "from sklearn.metrics import precision_score, recall_score, f1_score, confusion_matrix, roc_curve, auc\n",
    "import time\n",
    "\n",
    "device = torch.device(\"cuda\" if torch.cuda.is_available() else \"cpu\")"
   ]
  },
  {
   "cell_type": "code",
   "execution_count": 8,
   "metadata": {},
   "outputs": [
    {
     "name": "stdout",
     "output_type": "stream",
     "text": [
      "17\n",
      "17\n",
      "9813926\n",
      "2453482\n"
     ]
    }
   ],
   "source": [
    "train_X = pd.read_csv(\"data/train_X.csv\")\n",
    "X_test_scaled = pd.read_csv(\"data/X_test.csv\")\n",
    "y_test = pd.read_csv(\"data/y_test.csv\")\n",
    "val_X = pd.read_csv(\"data/val_X.csv\")\n",
    "\n",
    "\n",
    "\n",
    "print(train_X.shape[1])  \n",
    "print(X_test_scaled.shape[1]) \n",
    "\n",
    "train_tensor = torch.tensor(train_X.values, dtype=torch.float32)\n",
    "train_dataset = TensorDataset(train_tensor)\n",
    "train_loader = DataLoader(train_dataset, batch_size=8192, shuffle=True)\n",
    "val_tensor = torch.tensor(val_X.values, dtype=torch.float32)\n",
    "val_loader = DataLoader(TensorDataset(val_tensor), batch_size=1024)\n",
    "print(len(train_loader.dataset)) \n",
    "print(len(val_loader.dataset))\n"
   ]
  },
  {
   "cell_type": "code",
   "execution_count": 9,
   "metadata": {},
   "outputs": [],
   "source": [
    "model = Autoencoder(input_dim=17).to(device)\n",
    "optimizer = torch.optim.Adam(model.parameters(), lr=1e-4)\n",
    "criterion = nn.BCELoss()\n",
    "\n",
    "num_epochs = 20\n"
   ]
  },
  {
   "cell_type": "code",
   "execution_count": 10,
   "metadata": {},
   "outputs": [],
   "source": [
    "class EarlyStopping:\n",
    "    def __init__(self, patience=3, delta=1e-4):\n",
    "        self.patience = patience\n",
    "        self.delta = delta\n",
    "        self.best_loss = float('inf')\n",
    "        self.counter = 0\n",
    "        self.early_stop = False\n",
    "\n",
    "    def __call__(self, loss):\n",
    "        if loss < self.best_loss - self.delta:\n",
    "            self.best_loss = loss\n",
    "            self.counter = 0\n",
    "        else:\n",
    "            self.counter += 1\n",
    "            if self.counter >= self.patience:\n",
    "                self.early_stop = True\n"
   ]
  },
  {
   "cell_type": "code",
   "execution_count": 11,
   "metadata": {},
   "outputs": [
    {
     "name": "stdout",
     "output_type": "stream",
     "text": [
      "Epoch 1/20 | Train Loss: 0.551186 | Val Loss: 0.347774\n",
      "Epoch 2/20 | Train Loss: 0.296198 | Val Loss: 0.252696\n",
      "Epoch 3/20 | Train Loss: 0.236246 | Val Loss: 0.218794\n",
      "Epoch 4/20 | Train Loss: 0.209858 | Val Loss: 0.204284\n",
      "Epoch 5/20 | Train Loss: 0.200249 | Val Loss: 0.196882\n",
      "Epoch 6/20 | Train Loss: 0.193724 | Val Loss: 0.190442\n",
      "Epoch 7/20 | Train Loss: 0.187370 | Val Loss: 0.184882\n",
      "Epoch 8/20 | Train Loss: 0.183522 | Val Loss: 0.182506\n",
      "Epoch 9/20 | Train Loss: 0.181843 | Val Loss: 0.181237\n",
      "Epoch 10/20 | Train Loss: 0.180713 | Val Loss: 0.180182\n",
      "Epoch 11/20 | Train Loss: 0.179678 | Val Loss: 0.179212\n",
      "Epoch 12/20 | Train Loss: 0.178874 | Val Loss: 0.178584\n",
      "Epoch 13/20 | Train Loss: 0.178325 | Val Loss: 0.178073\n",
      "Epoch 14/20 | Train Loss: 0.177748 | Val Loss: 0.177369\n",
      "Epoch 15/20 | Train Loss: 0.176597 | Val Loss: 0.175453\n",
      "Epoch 16/20 | Train Loss: 0.173099 | Val Loss: 0.170592\n",
      "Epoch 17/20 | Train Loss: 0.169242 | Val Loss: 0.168442\n",
      "Epoch 18/20 | Train Loss: 0.168033 | Val Loss: 0.167751\n",
      "Epoch 19/20 | Train Loss: 0.167525 | Val Loss: 0.167389\n",
      "Epoch 20/20 | Train Loss: 0.167246 | Val Loss: 0.167172\n"
     ]
    }
   ],
   "source": [
    "early_stopper = EarlyStopping(patience=3)\n",
    "losses = []\n",
    "val_losses = []\n",
    "\n",
    "for epoch in range(num_epochs):\n",
    "    model.train()\n",
    "    epoch_loss = 0.0\n",
    "    for batch in train_loader:\n",
    "        x = batch[0].to(device)\n",
    "        optimizer.zero_grad()\n",
    "        outputs = model(x)\n",
    "        loss = criterion(outputs, x)\n",
    "        loss.backward()\n",
    "        optimizer.step()\n",
    "        epoch_loss += loss.item() * x.size(0)\n",
    "    avg_train_loss = epoch_loss / len(train_loader.dataset)\n",
    "\n",
    "    model.eval()\n",
    "    val_loss = 0.0\n",
    "    with torch.no_grad():\n",
    "        for batch in val_loader:\n",
    "            x = batch[0].to(device)\n",
    "            outputs = model(x)\n",
    "            loss = criterion(outputs, x)\n",
    "            val_loss += loss.item() * x.size(0)\n",
    "    avg_val_loss = val_loss / len(val_loader.dataset)\n",
    "\n",
    "    losses.append(avg_train_loss)\n",
    "    val_losses.append(avg_val_loss)\n",
    "    print(f\"Epoch {epoch+1}/{num_epochs} | Train Loss: {avg_train_loss:.6f} | Val Loss: {avg_val_loss:.6f}\")\n",
    "\n",
    "    if early_stopper(avg_val_loss):\n",
    "        print(\"Early stopping triggered\")\n",
    "        break\n"
   ]
  },
  {
   "cell_type": "code",
   "execution_count": null,
   "metadata": {},
   "outputs": [],
   "source": [
    "X_test_tensor = torch.tensor(X_test_scaled, dtype=torch.float32).to(device)\n",
    "model.eval()\n",
    "with torch.no_grad():\n",
    "    reconstructions = model(X_test_tensor).cpu().numpy()\n",
    "\n",
    "reconstruction_errors = np.mean((X_test_scaled - reconstructions) ** 2, axis=1)\n",
    "X_test_scaled = np.nan_to_num(X_test_scaled)\n",
    "reconstructions = np.nan_to_num(reconstructions)\n",
    "\n",
    "reconstruction_errors = np.mean((X_test_scaled - reconstructions) ** 2, axis=1)\n",
    "\n",
    "mean = np.mean(reconstruction_errors)\n",
    "std = np.std(reconstruction_errors)\n",
    "threshold = mean + 3 * std\n",
    "\n",
    "y_pred = (reconstruction_errors > threshold).astype(int)\n",
    "\n",
    "precision = precision_score(y_test, y_pred)\n",
    "recall = recall_score(y_test, y_pred)\n",
    "f1 = f1_score(y_test, y_pred)\n",
    "conf_matrix = confusion_matrix(y_test, y_pred)"
   ]
  },
  {
   "cell_type": "code",
   "execution_count": 19,
   "metadata": {},
   "outputs": [
    {
     "name": "stdout",
     "output_type": "stream",
     "text": [
      "\n",
      "Threshold: 0.065214\n",
      "Precision: 0.5013\n",
      "Recall:    0.0162\n",
      "F1 Score:  0.0314\n",
      "Confusion Matrix:\n",
      "[[3017465   49388]\n",
      " [3017217   49636]]\n"
     ]
    },
    {
     "data": {
      "image/png": "[encoded data removed]",
      "text/plain": [
       "<Figure size 600x500 with 1 Axes>"
      ]
     },
     "metadata": {},
     "output_type": "display_data"
    }
   ],
   "source": [
    "print(f\"\\nThreshold: {threshold:.6f}\")\n",
    "print(f\"Precision: {precision:.4f}\")\n",
    "print(f\"Recall:    {recall:.4f}\")\n",
    "print(f\"F1 Score:  {f1:.4f}\")\n",
    "print(\"Confusion Matrix:\")\n",
    "print(conf_matrix)\n",
    "\n",
    "fpr, tpr, _ = roc_curve(y_test, reconstruction_errors)\n",
    "roc_auc = auc(fpr, tpr)\n",
    "\n",
    "plt.figure(figsize=(6, 5))\n",
    "plt.plot(fpr, tpr, label=f\"AUC = {roc_auc:.4f}\")\n",
    "plt.plot([0, 1], [0, 1], linestyle='--', color='gray')\n",
    "plt.xlabel(\"False Positive Rate\")\n",
    "plt.ylabel(\"True Positive Rate\")\n",
    "plt.title(\"Anomaly Detection\")\n",
    "plt.legend()\n",
    "plt.grid(True)\n",
    "plt.tight_layout()\n",
    "plt.show()\n",
    "\n"
   ]
  }
 ],
 "metadata": {
  "kernelspec": {
   "display_name": "venv",
   "language": "python",
   "name": "python3"
  },
  "language_info": {
   "codemirror_mode": {
    "name": "ipython",
    "version": 3
   },
   "file_extension": ".py",
   "mimetype": "text/x-python",
   "name": "python",
   "nbconvert_exporter": "python",
   "pygments_lexer": "ipython3",
   "version": "3.13.5"
  }
 },
 "nbformat": 4,
 "nbformat_minor": 2
}
