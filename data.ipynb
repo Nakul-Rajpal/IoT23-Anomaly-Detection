{
 "cells": [
  {
   "cell_type": "code",
   "execution_count": 8,
   "id": "3ac31607",
   "metadata": {},
   "outputs": [],
   "source": [
    "import pandas as pd\n",
    "import glob\n",
    "import os\n",
    "import numpy as np\n",
    "from collections import defaultdict\n",
    "from sklearn.model_selection import train_test_split\n",
    "from sklearn.preprocessing import LabelEncoder, MinMaxScaler\n",
    "from sklearn.utils import shuffle\n",
    "from model import Autoencoder"
   ]
  },
  {
   "cell_type": "code",
   "execution_count": 5,
   "id": "3bb9d2a8",
   "metadata": {},
   "outputs": [
    {
     "name": "stdout",
     "output_type": "stream",
     "text": [
      "(15334261, 18)\n",
      "(121502132, 18)\n",
      "   id.orig_h_3  id.orig_h_4  id.resp_h_1  id.resp_h_2  id.resp_h_3  \\\n",
      "0            1          195           89          221          218   \n",
      "1            1            1          192          168            1   \n",
      "2            1          195           89          221          210   \n",
      "3            1          195            5            1           56   \n",
      "4            1          195           31           31           74   \n",
      "\n",
      "   id.resp_h_4         D    S  orig_pkts  orig_ip_bytes  label  id.orig_p_dyn  \\\n",
      "0          101  0.558618  0.0          2            152      0              0   \n",
      "1          195  0.253665  0.0        400          26336      0              0   \n",
      "2          188  0.558618  0.0          2            152      0              0   \n",
      "3          123  0.558618  0.0          2            152      0              0   \n",
      "4           35  0.558618  0.0          2            152      0              0   \n",
      "\n",
      "   id.orig_p_reg  id.resp_p_dyn  id.resp_p_reg  id.resp_p_wk  proto_tcp  \\\n",
      "0              0              0              0             1          0   \n",
      "1              1              0              0             1          1   \n",
      "2              0              0              0             1          0   \n",
      "3              0              0              0             1          0   \n",
      "4              0              0              0             1          0   \n",
      "\n",
      "   proto_udp  \n",
      "0          1  \n",
      "1          0  \n",
      "2          1  \n",
      "3          1  \n",
      "4          1  \n",
      "   id.orig_h_3  id.orig_h_4  id.resp_h_1  id.resp_h_2  id.resp_h_3  \\\n",
      "0            1          194          200          105          165   \n",
      "1            1          194           45           76          233   \n",
      "2            1          194           45           76          233   \n",
      "3            1          194          162          144           39   \n",
      "4            1          194          154           85           55   \n",
      "\n",
      "   id.resp_h_4         D         S  orig_pkts  orig_ip_bytes  label  \\\n",
      "0           41  0.232800  0.047162          7           1774    NaN   \n",
      "1          109  0.232800  0.047162         15           2578    NaN   \n",
      "2          109  0.232800  0.047162         15           2514    NaN   \n",
      "3          115  0.232800  0.047162         16           2986    NaN   \n",
      "4          122  0.209323  0.042406          4            258    NaN   \n",
      "\n",
      "   id.orig_p_dyn  id.orig_p_reg  id.resp_p_dyn  id.resp_p_reg  id.resp_p_wk  \\\n",
      "0              0              1              0              0             1   \n",
      "1              0              1              0              0             1   \n",
      "2              0              1              0              0             1   \n",
      "3              0              1              0              0             1   \n",
      "4              0              1              0              0             1   \n",
      "\n",
      "   proto_tcp  proto_udp  \n",
      "0          1          0  \n",
      "1          1          0  \n",
      "2          1          0  \n",
      "3          1          0  \n",
      "4          1          0  \n"
     ]
    }
   ],
   "source": [
    "data_dir = 'data'\n",
    "benign_df = pd.read_csv(f'{data_dir}/benign_train.csv')\n",
    "\n",
    "csv_files = [f for f in os.listdir(data_dir) if f.endswith('.csv') and f not in ['benign_train.csv', 'train_X.csv', 'X_test.csv', 'y_test.csv']]\n",
    "csv_dfs = [pd.read_csv(os.path.join(data_dir, f)) for f in csv_files]\n",
    "malicious_df = pd.concat(csv_dfs, ignore_index=True)\n",
    "\n",
    "print(benign_df.shape)\n",
    "print(malicious_df.shape)\n",
    "print(benign_df.head())\n",
    "print(malicious_df.head())"
   ]
  },
  {
   "cell_type": "code",
   "execution_count": 6,
   "id": "0c19bbfa",
   "metadata": {},
   "outputs": [
    {
     "name": "stdout",
     "output_type": "stream",
     "text": [
      "(3066853, 18)\n",
      "(3066853, 18)\n"
     ]
    }
   ],
   "source": [
    "train_benign, test_benign = train_test_split(benign_df, test_size=0.2, random_state=42)\n",
    "\n",
    "print(test_benign.shape)\n",
    "\n",
    "test_malicious = malicious_df.sample(n=len(test_benign), random_state=42)\n",
    "\n",
    "print(test_malicious.shape)"
   ]
  },
  {
   "cell_type": "code",
   "execution_count": 7,
   "id": "81b1fd97",
   "metadata": {},
   "outputs": [
    {
     "name": "stdout",
     "output_type": "stream",
     "text": [
      "(12267408, 18)\n",
      "float64\n",
      "(6133706, 18)\n",
      "float64\n",
      "[0, 0, 1, 1, 1, 1, 1, 1, 1, 1]\n",
      "    0      1      2      3      4      5    6    7    8     9    10   11   12  \\\n",
      "0  1.0  198.0   34.0  124.0  103.0  230.0  0.0  1.0  1.0  40.0  0.0  1.0  0.0   \n",
      "1  1.0  198.0  162.0    6.0  156.0  145.0  0.0  1.0  1.0  40.0  0.0  1.0  0.0   \n",
      "2  1.0  198.0    8.0  177.0  172.0  145.0  0.0  1.0  1.0  40.0  0.0  0.0  1.0   \n",
      "3  1.0  198.0   96.0  114.0  150.0  154.0  0.0  1.0  1.0  40.0  0.0  0.0  1.0   \n",
      "4  1.0  198.0  159.0  211.0  229.0    0.0  0.0  1.0  1.0  40.0  0.0  0.0  1.0   \n",
      "\n",
      "    13   14   15   16   17  \n",
      "0  0.0  0.0  1.0  1.0  0.0  \n",
      "1  0.0  0.0  1.0  1.0  0.0  \n",
      "2  0.0  0.0  1.0  1.0  0.0  \n",
      "3  0.0  0.0  1.0  1.0  0.0  \n",
      "4  0.0  0.0  1.0  1.0  0.0  \n",
      "      0      1      2      3      4      5    6    7    8      9    10   11  \\\n",
      "0  100.0  103.0   37.0   37.0  135.0   55.0  1.0  0.0  1.0   40.0  0.0  0.0   \n",
      "1    1.0  198.0   48.0  214.0  101.0  191.0  0.0  1.0  1.0   40.0  0.0  0.0   \n",
      "2    1.0  196.0   97.0   98.0   83.0  124.0  0.0  1.0  1.0   60.0  0.0  0.0   \n",
      "3    1.0  196.0  209.0  100.0   86.0  167.0  0.0  1.0  3.0  180.0  0.0  0.0   \n",
      "4    1.0  198.0   71.0   88.0   72.0   43.0  0.0  1.0  1.0   40.0  0.0  1.0   \n",
      "\n",
      "    12   13   14   15   16   17  \n",
      "0  1.0  0.0  1.0  0.0  0.0  1.0  \n",
      "1  1.0  0.0  0.0  1.0  1.0  0.0  \n",
      "2  1.0  0.0  0.0  1.0  1.0  0.0  \n",
      "3  1.0  0.0  0.0  1.0  1.0  0.0  \n",
      "4  0.0  0.0  0.0  1.0  1.0  0.0  \n",
      "   0\n",
      "0  0\n",
      "1  0\n",
      "2  1\n",
      "3  1\n",
      "4  1\n"
     ]
    }
   ],
   "source": [
    "X_test = pd.concat([test_benign, test_malicious], ignore_index=True)\n",
    "y_test = [0] * len(test_benign) + [1] * len(test_malicious)\n",
    "\n",
    "X_test, y_test = shuffle(X_test, y_test, random_state=42)\n",
    "train_X = train_benign.to_numpy()\n",
    "X_test = X_test.to_numpy()\n",
    "\n",
    "print(train_X.shape)  \n",
    "print(train_X.dtype)  \n",
    "print(X_test.shape)    \n",
    "print(X_test.dtype)    \n",
    "print(y_test[:10])  \n",
    "\n",
    "train_X_df = pd.DataFrame(train_X)\n",
    "X_test_df = pd.DataFrame(X_test)\n",
    "y_tests_df = pd.DataFrame(y_test)\n",
    "\n",
    "X_test_df = X_test_df.fillna(0)\n",
    "train_X_df = train_X_df.fillna(0)\n",
    "y_tests_df = y_tests_df.fillna(0)\n",
    "\n",
    "scaler = MinMaxScaler()\n",
    "train_X_scaled = scaler.fit_transform(train_X_df)\n",
    "X_test_scaled = scaler.transform(X_test_df)\n",
    "\n",
    "print(train_X_df.head())\n",
    "print(X_test_df.head())\n",
    "print(y_tests_df.head())\n",
    "\n",
    "pd.DataFrame(train_X_scaled).to_csv(\"data/train_X.csv\", index=False)\n",
    "pd.DataFrame(X_test_scaled).to_csv(\"data/X_test.csv\", index=False)\n",
    "pd.DataFrame(y_test).to_csv(\"data/y_test.csv\", index=False)\n"
   ]
  }
 ],
 "metadata": {
  "kernelspec": {
   "display_name": "venv",
   "language": "python",
   "name": "python3"
  },
  "language_info": {
   "codemirror_mode": {
    "name": "ipython",
    "version": 3
   },
   "file_extension": ".py",
   "mimetype": "text/x-python",
   "name": "python",
   "nbconvert_exporter": "python",
   "pygments_lexer": "ipython3",
   "version": "3.13.5"
  }
 },
 "nbformat": 4,
 "nbformat_minor": 5
}
