{
 "cells": [
  {
   "cell_type": "code",
   "execution_count": null,
   "id": "3ac31607",
   "metadata": {},
   "outputs": [],
   "source": [
    "import pandas as pd\n",
    "import glob\n",
    "import os\n",
    "import numpy as np\n",
    "from collections import defaultdict\n",
    "from sklearn.model_selection import train_test_split\n",
    "from sklearn.preprocessing import LabelEncoder, MinMaxScaler\n",
    "from sklearn.utils import shuffle\n",
    "from model import Autoencoder"
   ]
  },
  {
   "cell_type": "code",
   "execution_count": null,
   "id": "3bb9d2a8",
   "metadata": {},
   "outputs": [],
   "source": [
    "data_dir = 'data'\n",
    "benign_df = pd.read_csv(f'{data_dir}/benign_train.csv')\n",
    "\n",
    "csv_files = [f for f in os.listdir(data_dir) if f.endswith('.csv') and f not in ['benign_train.csv', 'train_X.csv', 'X_test.csv', 'y_test.csv']]\n",
    "csv_dfs = [pd.read_csv(os.path.join(data_dir, f)) for f in csv_files]\n",
    "malicious_df = pd.concat(csv_dfs, ignore_index=True)\n",
    "\n",
    "print(benign_df.shape)\n",
    "print(malicious_df.shape)\n",
    "print(benign_df.head())\n",
    "print(malicious_df.head())"
   ]
  },
  {
   "cell_type": "code",
   "execution_count": null,
   "id": "0c19bbfa",
   "metadata": {},
   "outputs": [],
   "source": [
    "train_val_benign, test_benign = train_test_split(benign_df, test_size=0.2, random_state=42)\n",
    "train_benign, val_benign = train_test_split(train_val_benign, test_size=0.2, random_state=42)\n",
    "\n",
    "print(test_benign.shape)\n",
    "\n",
    "test_malicious = malicious_df.sample(n=len(test_benign), random_state=42)\n",
    "\n",
    "print(test_malicious.shape)"
   ]
  },
  {
   "cell_type": "code",
   "execution_count": null,
   "id": "81b1fd97",
   "metadata": {},
   "outputs": [],
   "source": [
    "X_test = pd.concat([test_benign, test_malicious], ignore_index=True)\n",
    "y_test = [0] * len(test_benign) + [1] * len(test_malicious)\n",
    "X_test, y_test = shuffle(X_test, y_test, random_state=42)\n",
    "\n",
    "train_X = train_benign\n",
    "train_X_df = pd.DataFrame(train_X)\n",
    "\n",
    "train_columns = train_X_df.columns\n",
    "X_test_df = pd.DataFrame(X_test)\n",
    "X_test_df = X_test_df[train_columns]\n",
    "\n",
    "train_X_df = train_X_df.fillna(train_X_df.median())\n",
    "X_test_df = X_test_df.fillna(train_X_df.median())\n",
    "\n",
    "val_benign = val_benign[train_columns].fillna(train_X_df.median())\n",
    "\n",
    "y_tests_df = pd.Series(y_test)\n",
    "\n",
    "X_test_anomaly = X_test_df[y_tests_df == 1]\n",
    "X_test_normal = X_test_df[y_tests_df == 0]\n",
    "X_test_normal_downsampled = X_test_normal.sample(n=len(X_test_anomaly), random_state=42)\n",
    "\n",
    "X_test_balanced = pd.concat([X_test_anomaly, X_test_normal_downsampled], axis=0)\n",
    "y_test_balanced = pd.Series([1]*len(X_test_anomaly) + [0]*len(X_test_normal_downsampled))\n",
    "\n",
    "X_test_balanced, y_test_balanced = shuffle(X_test_balanced, y_test_balanced, random_state=42)\n",
    "\n",
    "scaler = MinMaxScaler()\n",
    "train_X_scaled = scaler.fit_transform(train_X_df)\n",
    "X_test_scaled = scaler.transform(X_test_balanced)\n",
    "val_X_scaled = scaler.transform(val_benign)\n",
    "\n",
    "print(train_X_df.shape)\n",
    "print(\"Train X sample:\")\n",
    "print(train_X_df.head())\n",
    "\n",
    "print(X_test_balanced.shape)\n",
    "print(\"Test y balanced distribution:\")\n",
    "print(y_test_balanced.value_counts())\n",
    "print(\"Test X balanced sample:\")\n",
    "print(X_test_balanced.head())\n",
    "\n",
    "print(val_benign.shape)\n",
    "print(\"Validation X sample:\")\n",
    "print(val_benign.head())\n",
    "\n",
    "print(pd.DataFrame(train_X_scaled).describe())\n",
    "\n",
    "# pd.DataFrame(train_X_scaled).to_csv(\"data/train_X.csv\", index=False)\n",
    "# cpd.DataFrame(X_test_scaled).to_csv(\"data/X_test.csv\", index=False)\n",
    "# pd.DataFrame(y_test_balanced).to_csv(\"data/y_test.csv\", index=False)\n",
    "# pd.DataFrame(val_X_scaled).to_csv(\"data/val_X.csv\", index=False)"
   ]
  }
 ],
 "metadata": {
  "kernelspec": {
   "display_name": "venv",
   "language": "python",
   "name": "python3"
  },
  "language_info": {
   "codemirror_mode": {
    "name": "ipython",
    "version": 3
   },
   "file_extension": ".py",
   "mimetype": "text/x-python",
   "name": "python",
   "nbconvert_exporter": "python",
   "pygments_lexer": "ipython3",
   "version": "3.13.5"
  }
 },
 "nbformat": 4,
 "nbformat_minor": 5
}
